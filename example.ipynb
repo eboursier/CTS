{
 "cells": [
  {
   "cell_type": "code",
   "execution_count": 1,
   "metadata": {},
   "outputs": [],
   "source": [
    "from cts import *\n",
    "from strategies import *\n",
    "from settings import *\n",
    "import matplotlib.pyplot as plt\n",
    "import time\n",
    "from tqdm import tqdm, trange"
   ]
  },
  {
   "cell_type": "code",
   "execution_count": 2,
   "metadata": {},
   "outputs": [],
   "source": [
    "import sys\n",
    "# ignore warning for better readibility\n",
    "if not sys.warnoptions:\n",
    "    import warnings\n",
    "    warnings.simplefilter(\"ignore\")"
   ]
  },
  {
   "cell_type": "code",
   "execution_count": 3,
   "metadata": {},
   "outputs": [],
   "source": [
    "ninstances = 50# number of simulations to run\n",
    "horizon = 1000 # length of each simulation\n",
    "n = 10 # number of arms"
   ]
  },
  {
   "cell_type": "markdown",
   "metadata": {},
   "source": [
    "# Linear reward with fixed action size\n",
    "In this example, the reward is the sum of all pulled arms and the set of actions is all the subset of arms of size $m$."
   ]
  },
  {
   "cell_type": "code",
   "execution_count": 4,
   "metadata": {},
   "outputs": [],
   "source": [
    "m = 3 # size of each action\n",
    "means = np.random.uniform(size=n) # we choose means randomly for now\n",
    "c = 0.1 # term to tune our choice of covariance\n",
    "cov = (1-c)*np.eye(n) + c*np.ones((n,n))\n",
    "expid = 0"
   ]
  },
  {
   "cell_type": "code",
   "execution_count": 5,
   "metadata": {},
   "outputs": [
    {
     "name": "stdout",
     "output_type": "stream",
     "text": [
      "Mean vector:  [0.77970436 0.90500386 0.83565476 0.68438261 0.30081951 0.25025859\n",
      " 0.93966508 0.98032141 0.97391663 0.62716937]\n",
      "Covariance matrix: \n",
      "[[1.  0.1 0.1 0.1 0.1 0.1 0.1 0.1 0.1 0.1]\n",
      " [0.1 1.  0.1 0.1 0.1 0.1 0.1 0.1 0.1 0.1]\n",
      " [0.1 0.1 1.  0.1 0.1 0.1 0.1 0.1 0.1 0.1]\n",
      " [0.1 0.1 0.1 1.  0.1 0.1 0.1 0.1 0.1 0.1]\n",
      " [0.1 0.1 0.1 0.1 1.  0.1 0.1 0.1 0.1 0.1]\n",
      " [0.1 0.1 0.1 0.1 0.1 1.  0.1 0.1 0.1 0.1]\n",
      " [0.1 0.1 0.1 0.1 0.1 0.1 1.  0.1 0.1 0.1]\n",
      " [0.1 0.1 0.1 0.1 0.1 0.1 0.1 1.  0.1 0.1]\n",
      " [0.1 0.1 0.1 0.1 0.1 0.1 0.1 0.1 1.  0.1]\n",
      " [0.1 0.1 0.1 0.1 0.1 0.1 0.1 0.1 0.1 1. ]]\n"
     ]
    }
   ],
   "source": [
    "print(\"Mean vector: \", means)\n",
    "print(\"Covariance matrix: \")\n",
    "print(cov)"
   ]
  },
  {
   "cell_type": "code",
   "execution_count": 8,
   "metadata": {},
   "outputs": [],
   "source": [
    "# define the mab instance, the reward function, the oracle and the algo\n",
    "mab = GaussianCombMAB(means, cov)\n",
    "rew = LinearReward()\n",
    "oracle = LinearFixedSizeOracle(m)\n",
    "algo = clipCTSGaussian(means=np.zeros(n), cov=(1+(m-1)*c)*np.eye(n), oracle=oracle)"
   ]
  },
  {
   "cell_type": "markdown",
   "metadata": {},
   "source": [
    "### Some examples on how these classes work."
   ]
  },
  {
   "cell_type": "code",
   "execution_count": 9,
   "metadata": {},
   "outputs": [
    {
     "name": "stdout",
     "output_type": "stream",
     "text": [
      "Best action:  [6 8 7]\n",
      "Best possible mean reward:  2.8939031245011737\n"
     ]
    }
   ],
   "source": [
    "print('Best action: ', oracle.action(mab.means))\n",
    "print('Best possible mean reward: ', rew.reward(mab.means, oracle.action(mab.means)))"
   ]
  },
  {
   "cell_type": "code",
   "execution_count": 10,
   "metadata": {},
   "outputs": [
    {
     "name": "stdout",
     "output_type": "stream",
     "text": [
      "Algo subgaussian matrix:\n",
      "[[1.32 0.   0.   0.   0.   0.   0.   0.   0.   0.  ]\n",
      " [0.   1.32 0.   0.   0.   0.   0.   0.   0.   0.  ]\n",
      " [0.   0.   1.32 0.   0.   0.   0.   0.   0.   0.  ]\n",
      " [0.   0.   0.   1.32 0.   0.   0.   0.   0.   0.  ]\n",
      " [0.   0.   0.   0.   1.32 0.   0.   0.   0.   0.  ]\n",
      " [0.   0.   0.   0.   0.   1.32 0.   0.   0.   0.  ]\n",
      " [0.   0.   0.   0.   0.   0.   1.32 0.   0.   0.  ]\n",
      " [0.   0.   0.   0.   0.   0.   0.   1.32 0.   0.  ]\n",
      " [0.   0.   0.   0.   0.   0.   0.   0.   1.32 0.  ]\n",
      " [0.   0.   0.   0.   0.   0.   0.   0.   0.   1.32]]\n"
     ]
    }
   ],
   "source": [
    "print('Algo subgaussian matrix:')\n",
    "print(algo.subg_matrix)"
   ]
  },
  {
   "cell_type": "markdown",
   "metadata": {},
   "source": [
    "### Simulate"
   ]
  },
  {
   "cell_type": "code",
   "execution_count": 11,
   "metadata": {},
   "outputs": [],
   "source": [
    "ninstances = 50# number of simulations to run\n",
    "horizon = 10000 # length of each simulation\n",
    "n = 20 # number of \n",
    "m = 4 # size of each action\n",
    "c = 0.1 # term to tune our choice of covariance\n",
    "cov = (1-c)*np.eye(n) + c*np.ones((n,n))\n",
    "expid = 0\n",
    "rew = LinearReward()\n",
    "oracle = LinearFixedSizeOracle(m)\n",
    "algos = [CUCB(n, oracle=oracle), \n",
    "         clipCTSGaussian(means=np.zeros(n), cov=(1+(m-1)*c)*np.eye(n), oracle=oracle)] "
   ]
  },
  {
   "cell_type": "code",
   "execution_count": 12,
   "metadata": {},
   "outputs": [],
   "source": [
    "regret = {}\n",
    "for algo in algos:\n",
    "    try: # load saved progress if it exists\n",
    "        regret[algo.name] = np.load('simulations/linearfixedsize/regret_{}_{}_{}_{}_{}_{}.npy'.format(n, horizon, m, c, expid, algo.name)).tolist()\n",
    "    except FileNotFoundError:\n",
    "        regret[algo.name] = []"
   ]
  },
  {
   "cell_type": "code",
   "execution_count": 13,
   "metadata": {},
   "outputs": [
    {
     "name": "stderr",
     "output_type": "stream",
     "text": [
      "Simulating for algo=CUCB: 100%|██████████| 50/50 [00:10<00:00,  4.79it/s]\n",
      "Simulating for algo=CTS-GaussianIndep: 100%|██████████| 50/50 [01:34<00:00,  1.90s/it]\n"
     ]
    }
   ],
   "source": [
    "try:\n",
    "    np.load('simulations/linearfixedsize/means_{}_{}.npy'.format(n, expid))\n",
    "except FileNotFoundError:\n",
    "    means = np.random.uniform(size=n)\n",
    "    np.save('simulations/linearfixedsize/means_{}_{}.npy'.format(n, expid), means)\n",
    "         \n",
    "try:\n",
    "    for algo in algos:\n",
    "        for n in trange(ninstances-len(regret[algo.name]), desc='Simulating for algo={}'.format(algo.name), leave=True):\n",
    "            # generate new instance\n",
    "            mab = GaussianCombMAB(means, cov)\n",
    "            algo.reset() # reinitialize the algo\n",
    "            # simulate instance\n",
    "            reg, _ = simu(mab, rew, oracle, algo, horizon) # the second argument is the history of pulls\n",
    "            regret[algo.name].append(reg)\n",
    "        # save the simulations\n",
    "        np.save('simulations/linearfixedsize/regret_{}_{}_{}_{}_{}_{}.npy'.format(n, horizon, m, c, expid, algo.name), regret[algo.name])\n",
    "    \n",
    "except KeyboardInterrupt: # save progress in case of Keyboard interrupt (happens for long simulations)\n",
    "    np.save('simulations/linearfixedsize/regret_{}_{}_{}_{}_{}_{}.npy'.format(n, horizon, m, c, expid, algo.name), regret[algo.name])\n",
    "    print(\"Simulations uncomplete. Saved current progress.\")"
   ]
  },
  {
   "cell_type": "markdown",
   "metadata": {},
   "source": [
    "## Some stats on the last instance for the last algo"
   ]
  },
  {
   "cell_type": "markdown",
   "metadata": {},
   "source": [
    "These plots only work if we actually ran the algo and not load it from the saved file. (Use as a debugg)"
   ]
  },
  {
   "cell_type": "code",
   "execution_count": 14,
   "metadata": {},
   "outputs": [
    {
     "data": {
      "image/png": "[encoded data removed]",
      "text/plain": [
       "<Figure size 432x288 with 1 Axes>"
      ]
     },
     "metadata": {},
     "output_type": "display_data"
    }
   ],
   "source": [
    "plt.figure()\n",
    "plt.title('Comparing estimated and true means')\n",
    "plt.scatter(np.arange(len(algo.means)), algo.means, label=\"Estimated means\")\n",
    "plt.scatter(np.arange(len(mab.means)), mab.means, label=\"True means\")\n",
    "plt.legend()\n",
    "plt.show()"
   ]
  },
  {
   "cell_type": "code",
   "execution_count": 15,
   "metadata": {},
   "outputs": [
    {
     "data": {
      "image/png": "[encoded data removed]",
      "text/plain": [
       "<Figure size 432x288 with 1 Axes>"
      ]
     },
     "metadata": {},
     "output_type": "display_data"
    }
   ],
   "source": [
    "plt.bar(np.arange(len(algo.N)), algo.N)\n",
    "plt.title('Number of pulls per arm')\n",
    "plt.show()"
   ]
  },
  {
   "cell_type": "markdown",
   "metadata": {},
   "source": [
    "## Plot the mean regret"
   ]
  },
  {
   "cell_type": "code",
   "execution_count": 34,
   "metadata": {},
   "outputs": [
    {
     "data": {
      "image/png": "[encoded data removed]",
      "text/plain": [
       "<Figure size 432x288 with 1 Axes>"
      ]
     },
     "metadata": {},
     "output_type": "display_data"
    }
   ],
   "source": [
    "plt.figure()\n",
    "for algo in algos:\n",
    "    plt.plot(np.mean(regret[algo.name], axis=0), label=algo.name)\n",
    "plt.title('Evolution of cumulative regret on horizon = {}'.format(horizon))\n",
    "plt.ylabel('Cumulative regret')\n",
    "plt.xlabel('t')\n",
    "plt.legend()\n",
    "plt.show()"
   ]
  },
  {
   "cell_type": "markdown",
   "metadata": {},
   "source": [
    "Here we took almost independent signals so this result is far from surprising."
   ]
  },
  {
   "cell_type": "code",
   "execution_count": null,
   "metadata": {},
   "outputs": [],
   "source": []
  }
 ],
 "metadata": {
  "kernelspec": {
   "display_name": "Python 3",
   "language": "python",
   "name": "python3"
  },
  "language_info": {
   "codemirror_mode": {
    "name": "ipython",
    "version": 3
   },
   "file_extension": ".py",
   "mimetype": "text/x-python",
   "name": "python",
   "nbconvert_exporter": "python",
   "pygments_lexer": "ipython3",
   "version": "3.6.5"
  }
 },
 "nbformat": 4,
 "nbformat_minor": 2
}
